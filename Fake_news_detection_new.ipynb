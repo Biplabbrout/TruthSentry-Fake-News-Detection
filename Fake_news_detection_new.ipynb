{
 "cells": [
  {
   "cell_type": "markdown",
   "id": "9487c48b-bd8b-4c21-b9d3-24be0c9f9364",
   "metadata": {},
   "source": [
    "Importing the dependencies"
   ]
  },
  {
   "cell_type": "code",
   "execution_count": 1,
   "id": "813f417b-e088-4a94-ba21-82d7d02ba901",
   "metadata": {},
   "outputs": [],
   "source": [
    "import numpy as np\n",
    "import pandas as pd\n",
    "import re\n",
    "from nltk.corpus import stopwords\n",
    "from nltk.stem.porter import PorterStemmer\n",
    "from sklearn.feature_extraction.text import TfidfVectorizer\n",
    "from sklearn.model_selection import train_test_split\n",
    "from sklearn.linear_model import LogisticRegression\n",
    "from sklearn.metrics import accuracy_score"
   ]
  },
  {
   "cell_type": "code",
   "execution_count": 2,
   "id": "c668b43a-fa52-4922-b823-76b40ab204c6",
   "metadata": {},
   "outputs": [
    {
     "name": "stderr",
     "output_type": "stream",
     "text": [
      "[nltk_data] Downloading package stopwords to\n",
      "[nltk_data]     C:\\Users\\ASUS\\AppData\\Roaming\\nltk_data...\n",
      "[nltk_data]   Package stopwords is already up-to-date!\n"
     ]
    },
    {
     "data": {
      "text/plain": [
       "True"
      ]
     },
     "execution_count": 2,
     "metadata": {},
     "output_type": "execute_result"
    }
   ],
   "source": [
    "import nltk\n",
    "nltk.download('stopwords')"
   ]
  },
  {
   "cell_type": "code",
   "execution_count": 3,
   "id": "5c74c5fe-b1ce-4e41-b898-ac2714a4f208",
   "metadata": {},
   "outputs": [
    {
     "name": "stdout",
     "output_type": "stream",
     "text": [
      "['a', 'about', 'above', 'after', 'again', 'against', 'ain', 'all', 'am', 'an', 'and', 'any', 'are', 'aren', \"aren't\", 'as', 'at', 'be', 'because', 'been', 'before', 'being', 'below', 'between', 'both', 'but', 'by', 'can', 'couldn', \"couldn't\", 'd', 'did', 'didn', \"didn't\", 'do', 'does', 'doesn', \"doesn't\", 'doing', 'don', \"don't\", 'down', 'during', 'each', 'few', 'for', 'from', 'further', 'had', 'hadn', \"hadn't\", 'has', 'hasn', \"hasn't\", 'have', 'haven', \"haven't\", 'having', 'he', \"he'd\", \"he'll\", 'her', 'here', 'hers', 'herself', \"he's\", 'him', 'himself', 'his', 'how', 'i', \"i'd\", 'if', \"i'll\", \"i'm\", 'in', 'into', 'is', 'isn', \"isn't\", 'it', \"it'd\", \"it'll\", \"it's\", 'its', 'itself', \"i've\", 'just', 'll', 'm', 'ma', 'me', 'mightn', \"mightn't\", 'more', 'most', 'mustn', \"mustn't\", 'my', 'myself', 'needn', \"needn't\", 'no', 'nor', 'not', 'now', 'o', 'of', 'off', 'on', 'once', 'only', 'or', 'other', 'our', 'ours', 'ourselves', 'out', 'over', 'own', 're', 's', 'same', 'shan', \"shan't\", 'she', \"she'd\", \"she'll\", \"she's\", 'should', 'shouldn', \"shouldn't\", \"should've\", 'so', 'some', 'such', 't', 'than', 'that', \"that'll\", 'the', 'their', 'theirs', 'them', 'themselves', 'then', 'there', 'these', 'they', \"they'd\", \"they'll\", \"they're\", \"they've\", 'this', 'those', 'through', 'to', 'too', 'under', 'until', 'up', 've', 'very', 'was', 'wasn', \"wasn't\", 'we', \"we'd\", \"we'll\", \"we're\", 'were', 'weren', \"weren't\", \"we've\", 'what', 'when', 'where', 'which', 'while', 'who', 'whom', 'why', 'will', 'with', 'won', \"won't\", 'wouldn', \"wouldn't\", 'y', 'you', \"you'd\", \"you'll\", 'your', \"you're\", 'yours', 'yourself', 'yourselves', \"you've\"]\n"
     ]
    }
   ],
   "source": [
    "# printing the stopwords in English\n",
    "print(stopwords.words('English'))"
   ]
  },
  {
   "cell_type": "markdown",
   "id": "6aaaaa01-7272-497b-917f-e0d4ba782b2a",
   "metadata": {},
   "source": [
    "Data Pre-processing"
   ]
  },
  {
   "cell_type": "code",
   "execution_count": 4,
   "id": "56d69cf9-f776-46b4-b4de-3238459217cd",
   "metadata": {},
   "outputs": [],
   "source": [
    "#loading the dataset to a pandas DataFrame\n",
    "news_dataset = pd.read_csv('fake_news_dataset.csv')"
   ]
  },
  {
   "cell_type": "code",
   "execution_count": 5,
   "id": "ff701146-bbc9-480d-987c-490caaa44f8e",
   "metadata": {},
   "outputs": [
    {
     "data": {
      "text/plain": [
       "(20000, 7)"
      ]
     },
     "execution_count": 5,
     "metadata": {},
     "output_type": "execute_result"
    }
   ],
   "source": [
    "news_dataset.shape"
   ]
  },
  {
   "cell_type": "code",
   "execution_count": 8,
   "id": "289278fb-ccc0-4e0a-b5de-9c914f553e1c",
   "metadata": {},
   "outputs": [
    {
     "data": {
      "text/html": [
       "<div>\n",
       "<style scoped>\n",
       "    .dataframe tbody tr th:only-of-type {\n",
       "        vertical-align: middle;\n",
       "    }\n",
       "\n",
       "    .dataframe tbody tr th {\n",
       "        vertical-align: top;\n",
       "    }\n",
       "\n",
       "    .dataframe thead th {\n",
       "        text-align: right;\n",
       "    }\n",
       "</style>\n",
       "<table border=\"1\" class=\"dataframe\">\n",
       "  <thead>\n",
       "    <tr style=\"text-align: right;\">\n",
       "      <th></th>\n",
       "      <th>title</th>\n",
       "      <th>text</th>\n",
       "      <th>date</th>\n",
       "      <th>source</th>\n",
       "      <th>author</th>\n",
       "      <th>category</th>\n",
       "      <th>label</th>\n",
       "    </tr>\n",
       "  </thead>\n",
       "  <tbody>\n",
       "    <tr>\n",
       "      <th>0</th>\n",
       "      <td>Foreign Democrat final.</td>\n",
       "      <td>more tax development both store agreement lawy...</td>\n",
       "      <td>2023-03-10</td>\n",
       "      <td>NY Times</td>\n",
       "      <td>Paula George</td>\n",
       "      <td>Politics</td>\n",
       "      <td>real</td>\n",
       "    </tr>\n",
       "    <tr>\n",
       "      <th>1</th>\n",
       "      <td>To offer down resource great point.</td>\n",
       "      <td>probably guess western behind likely next inve...</td>\n",
       "      <td>2022-05-25</td>\n",
       "      <td>Fox News</td>\n",
       "      <td>Joseph Hill</td>\n",
       "      <td>Politics</td>\n",
       "      <td>fake</td>\n",
       "    </tr>\n",
       "    <tr>\n",
       "      <th>2</th>\n",
       "      <td>Himself church myself carry.</td>\n",
       "      <td>them identify forward present success risk sev...</td>\n",
       "      <td>2022-09-01</td>\n",
       "      <td>CNN</td>\n",
       "      <td>Julia Robinson</td>\n",
       "      <td>Business</td>\n",
       "      <td>fake</td>\n",
       "    </tr>\n",
       "    <tr>\n",
       "      <th>3</th>\n",
       "      <td>You unit its should.</td>\n",
       "      <td>phone which item yard Republican safe where po...</td>\n",
       "      <td>2023-02-07</td>\n",
       "      <td>Reuters</td>\n",
       "      <td>Mr. David Foster DDS</td>\n",
       "      <td>Science</td>\n",
       "      <td>fake</td>\n",
       "    </tr>\n",
       "    <tr>\n",
       "      <th>4</th>\n",
       "      <td>Billion believe employee summer how.</td>\n",
       "      <td>wonder myself fact difficult course forget exa...</td>\n",
       "      <td>2023-04-03</td>\n",
       "      <td>CNN</td>\n",
       "      <td>Austin Walker</td>\n",
       "      <td>Technology</td>\n",
       "      <td>fake</td>\n",
       "    </tr>\n",
       "  </tbody>\n",
       "</table>\n",
       "</div>"
      ],
      "text/plain": [
       "                                  title  \\\n",
       "0               Foreign Democrat final.   \n",
       "1   To offer down resource great point.   \n",
       "2          Himself church myself carry.   \n",
       "3                  You unit its should.   \n",
       "4  Billion believe employee summer how.   \n",
       "\n",
       "                                                text        date    source  \\\n",
       "0  more tax development both store agreement lawy...  2023-03-10  NY Times   \n",
       "1  probably guess western behind likely next inve...  2022-05-25  Fox News   \n",
       "2  them identify forward present success risk sev...  2022-09-01       CNN   \n",
       "3  phone which item yard Republican safe where po...  2023-02-07   Reuters   \n",
       "4  wonder myself fact difficult course forget exa...  2023-04-03       CNN   \n",
       "\n",
       "                 author    category label  \n",
       "0          Paula George    Politics  real  \n",
       "1           Joseph Hill    Politics  fake  \n",
       "2        Julia Robinson    Business  fake  \n",
       "3  Mr. David Foster DDS     Science  fake  \n",
       "4         Austin Walker  Technology  fake  "
      ]
     },
     "execution_count": 8,
     "metadata": {},
     "output_type": "execute_result"
    }
   ],
   "source": [
    "# print the first 5 rows of the dataframe\n",
    "news_dataset.head(5)"
   ]
  },
  {
   "cell_type": "code",
   "execution_count": 6,
   "id": "5b810928-b686-40f4-a11f-ccbebb0a317f",
   "metadata": {},
   "outputs": [
    {
     "data": {
      "text/plain": [
       "title          0\n",
       "text           0\n",
       "date           0\n",
       "source      1000\n",
       "author      1000\n",
       "category       0\n",
       "label          0\n",
       "dtype: int64"
      ]
     },
     "execution_count": 6,
     "metadata": {},
     "output_type": "execute_result"
    }
   ],
   "source": [
    "# counting the number of missing values in the dataset\n",
    "news_dataset.isnull().sum()"
   ]
  },
  {
   "cell_type": "code",
   "execution_count": 7,
   "id": "f4b54768-4f72-47b9-a54c-8a6cd84b2d40",
   "metadata": {},
   "outputs": [],
   "source": [
    "# replacing the null values with empty string\n",
    "news_dataset = news_dataset.fillna('')"
   ]
  },
  {
   "cell_type": "code",
   "execution_count": 8,
   "id": "93536e21-3418-4fe4-916e-d51eb489b53f",
   "metadata": {},
   "outputs": [
    {
     "data": {
      "text/plain": [
       "title       0\n",
       "text        0\n",
       "date        0\n",
       "source      0\n",
       "author      0\n",
       "category    0\n",
       "label       0\n",
       "dtype: int64"
      ]
     },
     "execution_count": 8,
     "metadata": {},
     "output_type": "execute_result"
    }
   ],
   "source": [
    "# Now there are no ,missing values as we replaced missing values with empty string\n",
    "news_dataset.isnull().sum()"
   ]
  },
  {
   "cell_type": "code",
   "execution_count": 10,
   "id": "3be06710-341b-471e-8eaa-f85f3130b9fa",
   "metadata": {},
   "outputs": [],
   "source": [
    "news_dataset['label'] = news_dataset['label'].replace({'real': 0, 'fake': 1}).astype(int)"
   ]
  },
  {
   "cell_type": "code",
   "execution_count": 15,
   "id": "b76d30ab-8d4e-4209-b1ba-2e1cfce659fc",
   "metadata": {},
   "outputs": [
    {
     "data": {
      "text/html": [
       "<div>\n",
       "<style scoped>\n",
       "    .dataframe tbody tr th:only-of-type {\n",
       "        vertical-align: middle;\n",
       "    }\n",
       "\n",
       "    .dataframe tbody tr th {\n",
       "        vertical-align: top;\n",
       "    }\n",
       "\n",
       "    .dataframe thead th {\n",
       "        text-align: right;\n",
       "    }\n",
       "</style>\n",
       "<table border=\"1\" class=\"dataframe\">\n",
       "  <thead>\n",
       "    <tr style=\"text-align: right;\">\n",
       "      <th></th>\n",
       "      <th>title</th>\n",
       "      <th>text</th>\n",
       "      <th>date</th>\n",
       "      <th>source</th>\n",
       "      <th>author</th>\n",
       "      <th>category</th>\n",
       "      <th>label</th>\n",
       "    </tr>\n",
       "  </thead>\n",
       "  <tbody>\n",
       "    <tr>\n",
       "      <th>0</th>\n",
       "      <td>Foreign Democrat final.</td>\n",
       "      <td>more tax development both store agreement lawy...</td>\n",
       "      <td>2023-03-10</td>\n",
       "      <td>NY Times</td>\n",
       "      <td>Paula George</td>\n",
       "      <td>Politics</td>\n",
       "      <td>0</td>\n",
       "    </tr>\n",
       "    <tr>\n",
       "      <th>1</th>\n",
       "      <td>To offer down resource great point.</td>\n",
       "      <td>probably guess western behind likely next inve...</td>\n",
       "      <td>2022-05-25</td>\n",
       "      <td>Fox News</td>\n",
       "      <td>Joseph Hill</td>\n",
       "      <td>Politics</td>\n",
       "      <td>1</td>\n",
       "    </tr>\n",
       "    <tr>\n",
       "      <th>2</th>\n",
       "      <td>Himself church myself carry.</td>\n",
       "      <td>them identify forward present success risk sev...</td>\n",
       "      <td>2022-09-01</td>\n",
       "      <td>CNN</td>\n",
       "      <td>Julia Robinson</td>\n",
       "      <td>Business</td>\n",
       "      <td>1</td>\n",
       "    </tr>\n",
       "    <tr>\n",
       "      <th>3</th>\n",
       "      <td>You unit its should.</td>\n",
       "      <td>phone which item yard Republican safe where po...</td>\n",
       "      <td>2023-02-07</td>\n",
       "      <td>Reuters</td>\n",
       "      <td>Mr. David Foster DDS</td>\n",
       "      <td>Science</td>\n",
       "      <td>1</td>\n",
       "    </tr>\n",
       "    <tr>\n",
       "      <th>4</th>\n",
       "      <td>Billion believe employee summer how.</td>\n",
       "      <td>wonder myself fact difficult course forget exa...</td>\n",
       "      <td>2023-04-03</td>\n",
       "      <td>CNN</td>\n",
       "      <td>Austin Walker</td>\n",
       "      <td>Technology</td>\n",
       "      <td>1</td>\n",
       "    </tr>\n",
       "  </tbody>\n",
       "</table>\n",
       "</div>"
      ],
      "text/plain": [
       "                                  title  \\\n",
       "0               Foreign Democrat final.   \n",
       "1   To offer down resource great point.   \n",
       "2          Himself church myself carry.   \n",
       "3                  You unit its should.   \n",
       "4  Billion believe employee summer how.   \n",
       "\n",
       "                                                text        date    source  \\\n",
       "0  more tax development both store agreement lawy...  2023-03-10  NY Times   \n",
       "1  probably guess western behind likely next inve...  2022-05-25  Fox News   \n",
       "2  them identify forward present success risk sev...  2022-09-01       CNN   \n",
       "3  phone which item yard Republican safe where po...  2023-02-07   Reuters   \n",
       "4  wonder myself fact difficult course forget exa...  2023-04-03       CNN   \n",
       "\n",
       "                 author    category  label  \n",
       "0          Paula George    Politics      0  \n",
       "1           Joseph Hill    Politics      1  \n",
       "2        Julia Robinson    Business      1  \n",
       "3  Mr. David Foster DDS     Science      1  \n",
       "4         Austin Walker  Technology      1  "
      ]
     },
     "execution_count": 15,
     "metadata": {},
     "output_type": "execute_result"
    }
   ],
   "source": [
    "# print the first 5 rows of the dataframe\n",
    "news_dataset.head(5)"
   ]
  },
  {
   "cell_type": "code",
   "execution_count": 11,
   "id": "358c214f-887e-4fb2-a964-d6c58e6f42de",
   "metadata": {},
   "outputs": [],
   "source": [
    "# merging the author name and news title\n",
    "news_dataset['content'] = news_dataset['author']+' '+news_dataset['title']"
   ]
  },
  {
   "cell_type": "code",
   "execution_count": 17,
   "id": "df074290-b51f-477d-9776-e7ad2e692784",
   "metadata": {},
   "outputs": [
    {
     "name": "stdout",
     "output_type": "stream",
     "text": [
      "0                     Paula George Foreign Democrat final.\n",
      "1          Joseph Hill To offer down resource great point.\n",
      "2              Julia Robinson Himself church myself carry.\n",
      "3                Mr. David Foster DDS You unit its should.\n",
      "4        Austin Walker Billion believe employee summer ...\n",
      "                               ...                        \n",
      "19995                         Gary Miles House party born.\n",
      "19996    Maria Mcbride Though nation people maybe price...\n",
      "19997     Kristen Franklin Yet exist with experience unit.\n",
      "19998                  David Wise School wide itself item.\n",
      "19999        James Peterson Offer chair cover senior born.\n",
      "Name: content, Length: 20000, dtype: object\n"
     ]
    }
   ],
   "source": [
    "print(news_dataset['content'])"
   ]
  },
  {
   "cell_type": "code",
   "execution_count": 12,
   "id": "5b2c64e6-165f-465c-a3fc-3691d4da9a68",
   "metadata": {},
   "outputs": [],
   "source": [
    "# separating the data & label\n",
    "X = news_dataset.drop(columns='label', axis=1)\n",
    "Y = news_dataset['label']"
   ]
  },
  {
   "cell_type": "code",
   "execution_count": 13,
   "id": "c500d7b9-e979-455b-a45f-93a3cc2f5b50",
   "metadata": {},
   "outputs": [
    {
     "name": "stdout",
     "output_type": "stream",
     "text": [
      "                                       title  \\\n",
      "0                    Foreign Democrat final.   \n",
      "1        To offer down resource great point.   \n",
      "2               Himself church myself carry.   \n",
      "3                       You unit its should.   \n",
      "4       Billion believe employee summer how.   \n",
      "...                                      ...   \n",
      "19995                      House party born.   \n",
      "19996  Though nation people maybe price box.   \n",
      "19997        Yet exist with experience unit.   \n",
      "19998               School wide itself item.   \n",
      "19999         Offer chair cover senior born.   \n",
      "\n",
      "                                                    text        date  \\\n",
      "0      more tax development both store agreement lawy...  2023-03-10   \n",
      "1      probably guess western behind likely next inve...  2022-05-25   \n",
      "2      them identify forward present success risk sev...  2022-09-01   \n",
      "3      phone which item yard Republican safe where po...  2023-02-07   \n",
      "4      wonder myself fact difficult course forget exa...  2023-04-03   \n",
      "...                                                  ...         ...   \n",
      "19995  hit and television I change very our happy doo...  2024-12-04   \n",
      "19996  fear most meet rock even sea value design stan...  2024-05-26   \n",
      "19997  activity loss very provide eye west create wha...  2023-04-17   \n",
      "19998  term point general common training watch respo...  2024-06-30   \n",
      "19999  remain pressure glass me six senior though nor...  2024-01-24   \n",
      "\n",
      "           source                author       category  \\\n",
      "0        NY Times          Paula George       Politics   \n",
      "1        Fox News           Joseph Hill       Politics   \n",
      "2             CNN        Julia Robinson       Business   \n",
      "3         Reuters  Mr. David Foster DDS        Science   \n",
      "4             CNN         Austin Walker     Technology   \n",
      "...           ...                   ...            ...   \n",
      "19995         BBC            Gary Miles  Entertainment   \n",
      "19996  Daily News         Maria Mcbride  Entertainment   \n",
      "19997         BBC      Kristen Franklin  Entertainment   \n",
      "19998     Reuters            David Wise         Health   \n",
      "19999  Daily News        James Peterson         Health   \n",
      "\n",
      "                                                 content  \n",
      "0                   Paula George Foreign Democrat final.  \n",
      "1        Joseph Hill To offer down resource great point.  \n",
      "2            Julia Robinson Himself church myself carry.  \n",
      "3              Mr. David Foster DDS You unit its should.  \n",
      "4      Austin Walker Billion believe employee summer ...  \n",
      "...                                                  ...  \n",
      "19995                       Gary Miles House party born.  \n",
      "19996  Maria Mcbride Though nation people maybe price...  \n",
      "19997   Kristen Franklin Yet exist with experience unit.  \n",
      "19998                David Wise School wide itself item.  \n",
      "19999      James Peterson Offer chair cover senior born.  \n",
      "\n",
      "[20000 rows x 7 columns]\n",
      "0        0\n",
      "1        1\n",
      "2        1\n",
      "3        1\n",
      "4        1\n",
      "        ..\n",
      "19995    1\n",
      "19996    0\n",
      "19997    0\n",
      "19998    1\n",
      "19999    1\n",
      "Name: label, Length: 20000, dtype: int32\n"
     ]
    }
   ],
   "source": [
    "print(X)\n",
    "print(Y)"
   ]
  },
  {
   "cell_type": "markdown",
   "id": "ecac19a3-53a2-418a-84fc-fe069e67c750",
   "metadata": {},
   "source": [
    "Stemming:\n",
    "\n",
    "Stemming is the process of reducing a word to its Root word\n",
    "\n",
    "example: actor, actress, acting --> act"
   ]
  },
  {
   "cell_type": "code",
   "execution_count": 14,
   "id": "8e68750f-4631-4eaf-baff-d452d3fd4bbf",
   "metadata": {},
   "outputs": [],
   "source": [
    "port_stem = PorterStemmer()"
   ]
  },
  {
   "cell_type": "code",
   "execution_count": 15,
   "id": "da9c330f-eb0c-432b-8a7b-34e0844382d8",
   "metadata": {},
   "outputs": [],
   "source": [
    "def stemming(content):\n",
    "    stemmed_content = re.sub('[^a-zA-Z]',' ',content)\n",
    "    stemmed_content = stemmed_content.lower()\n",
    "    stemmed_content = stemmed_content.split()\n",
    "    stemmed_content = [port_stem.stem(word) for word in stemmed_content if not word in stopwords.words('english')]\n",
    "    stemmed_content = ' '.join(stemmed_content)\n",
    "    return stemmed_content"
   ]
  },
  {
   "cell_type": "code",
   "execution_count": 16,
   "id": "e8abb9f5-00d5-48c3-99ac-8af6a54682df",
   "metadata": {},
   "outputs": [],
   "source": [
    "news_dataset['content'] = news_dataset['content'].apply(stemming)"
   ]
  },
  {
   "cell_type": "code",
   "execution_count": 18,
   "id": "b3adbdd6-e37b-4083-9a80-38c19a23b263",
   "metadata": {},
   "outputs": [
    {
     "name": "stdout",
     "output_type": "stream",
     "text": [
      "0                      paula georg foreign democrat final\n",
      "1                   joseph hill offer resourc great point\n",
      "2                             julia robinson church carri\n",
      "3                                 mr david foster dd unit\n",
      "4             austin walker billion believ employe summer\n",
      "                               ...                       \n",
      "19995                           gari mile hous parti born\n",
      "19996    maria mcbride though nation peopl mayb price box\n",
      "19997              kristen franklin yet exist experi unit\n",
      "19998                         david wise school wide item\n",
      "19999         jame peterson offer chair cover senior born\n",
      "Name: content, Length: 20000, dtype: object\n"
     ]
    }
   ],
   "source": [
    "print(news_dataset['content'])"
   ]
  },
  {
   "cell_type": "code",
   "execution_count": 19,
   "id": "5d7184db-5ec9-4950-bb18-9813f5790a19",
   "metadata": {},
   "outputs": [],
   "source": [
    "#separating the data and label\n",
    "X = news_dataset['content'].values\n",
    "Y = news_dataset['label'].values"
   ]
  },
  {
   "cell_type": "code",
   "execution_count": 20,
   "id": "3f3ccb39-0311-4631-9c57-10f5490a6470",
   "metadata": {},
   "outputs": [
    {
     "name": "stdout",
     "output_type": "stream",
     "text": [
      "['paula georg foreign democrat final'\n",
      " 'joseph hill offer resourc great point' 'julia robinson church carri' ...\n",
      " 'kristen franklin yet exist experi unit' 'david wise school wide item'\n",
      " 'jame peterson offer chair cover senior born']\n"
     ]
    }
   ],
   "source": [
    "print(X)"
   ]
  },
  {
   "cell_type": "code",
   "execution_count": 21,
   "id": "119de6e5-1b90-47c8-8451-e74157198a22",
   "metadata": {},
   "outputs": [
    {
     "name": "stdout",
     "output_type": "stream",
     "text": [
      "[0 1 1 ... 0 1 1]\n"
     ]
    }
   ],
   "source": [
    "print(Y)"
   ]
  },
  {
   "cell_type": "code",
   "execution_count": 22,
   "id": "b7b37874-a215-4541-9135-1f8bf4d0f483",
   "metadata": {},
   "outputs": [
    {
     "data": {
      "text/plain": [
       "(20000,)"
      ]
     },
     "execution_count": 22,
     "metadata": {},
     "output_type": "execute_result"
    }
   ],
   "source": [
    "Y.shape"
   ]
  },
  {
   "cell_type": "code",
   "execution_count": 23,
   "id": "ddadbf45-cada-4cdb-84a9-e260f4447294",
   "metadata": {},
   "outputs": [],
   "source": [
    "# converting the textual data to numerical data\n",
    "vectorizer = TfidfVectorizer()\n",
    "vectorizer.fit(X)\n",
    "\n",
    "X = vectorizer.transform(X)"
   ]
  },
  {
   "cell_type": "code",
   "execution_count": 24,
   "id": "dc62f594-7e47-400c-98ec-6b1506c340ef",
   "metadata": {},
   "outputs": [
    {
     "name": "stdout",
     "output_type": "stream",
     "text": [
      "  (0, 553)\t0.39378500362567437\n",
      "  (0, 729)\t0.38563113779991653\n",
      "  (0, 760)\t0.4303325215423282\n",
      "  (0, 820)\t0.4702667357326091\n",
      "  (0, 1607)\t0.5384098017728571\n",
      "  (1, 855)\t0.4075140492253222\n",
      "  (1, 945)\t0.4349807003583625\n",
      "  (1, 1106)\t0.39395595700897607\n",
      "  (1, 1544)\t0.4059231913258755\n",
      "  (1, 1650)\t0.40644929622403225\n",
      "  (1, 1761)\t0.3994347584771229\n",
      "  (2, 340)\t0.4619493340010572\n",
      "  (2, 402)\t0.46849498889312446\n",
      "  (2, 1116)\t0.5803950203356232\n",
      "  (2, 1802)\t0.4798508920150325\n",
      "  (3, 529)\t0.3893432059572742\n",
      "  (3, 535)\t0.46879786583185773\n",
      "  (3, 765)\t0.5331103685464007\n",
      "  (3, 1474)\t0.36176526198760245\n",
      "  (3, 2168)\t0.4621251552704844\n",
      "  (4, 128)\t0.4431492340687908\n",
      "  (4, 182)\t0.39333180511748317\n",
      "  (4, 209)\t0.39858312187055117\n",
      "  (4, 655)\t0.41121899358509134\n",
      "  (4, 2054)\t0.3943487167650092\n",
      "  :\t:\n",
      "  (19996, 1316)\t0.38290410625708515\n",
      "  (19996, 1345)\t0.3396980161532583\n",
      "  (19996, 1349)\t0.44657233844084904\n",
      "  (19996, 1494)\t0.3011404108931225\n",
      "  (19996, 1617)\t0.338246234612171\n",
      "  (19996, 1677)\t0.31677886528565996\n",
      "  (19996, 2107)\t0.3368318421904574\n",
      "  (19997, 696)\t0.37503712327607314\n",
      "  (19997, 698)\t0.3826025869468537\n",
      "  (19997, 774)\t0.47329282552120633\n",
      "  (19997, 1177)\t0.44291125940304293\n",
      "  (19997, 2168)\t0.3815391023277808\n",
      "  (19997, 2305)\t0.3836845678750418\n",
      "  (19998, 529)\t0.3528414650107962\n",
      "  (19998, 1034)\t0.41486458017405187\n",
      "  (19998, 1867)\t0.42548232544819414\n",
      "  (19998, 2258)\t0.43010259585364385\n",
      "  (19998, 2274)\t0.5808328748075446\n",
      "  (19999, 235)\t0.3810429789581131\n",
      "  (19999, 366)\t0.38600925577877093\n",
      "  (19999, 481)\t0.379472127014235\n",
      "  (19999, 1047)\t0.3167070069246487\n",
      "  (19999, 1544)\t0.3754678126815375\n",
      "  (19999, 1627)\t0.4245821110632157\n",
      "  (19999, 1889)\t0.3745058501935772\n"
     ]
    }
   ],
   "source": [
    "print(X)"
   ]
  },
  {
   "cell_type": "markdown",
   "id": "acbb2836-90e7-4b69-879b-09145a54c874",
   "metadata": {},
   "source": [
    "Splitting the dataset to training & test data"
   ]
  },
  {
   "cell_type": "code",
   "execution_count": 25,
   "id": "8ab69eda-e6f8-4456-a39d-36e092bae5ac",
   "metadata": {},
   "outputs": [],
   "source": [
    "X_train, X_test, Y_train, Y_test = train_test_split(X, Y, test_size = 0.2, stratify=Y, random_state=2)"
   ]
  },
  {
   "cell_type": "markdown",
   "id": "0cf7172c-5f66-4e57-8409-d786d9abc709",
   "metadata": {},
   "source": [
    "Training the Model: Logistic Regression"
   ]
  },
  {
   "cell_type": "code",
   "execution_count": 26,
   "id": "9ff15118-ddf0-47b6-9db4-c4add1e45303",
   "metadata": {},
   "outputs": [],
   "source": [
    "model = LogisticRegression()"
   ]
  },
  {
   "cell_type": "markdown",
   "id": "afc87c72-db5f-4769-871b-71c1548e08d6",
   "metadata": {},
   "source": [
    "model.fit(X_train, Y_train)"
   ]
  },
  {
   "cell_type": "markdown",
   "id": "3338576d-e78e-4603-b292-dcf6d2ebb001",
   "metadata": {},
   "source": [
    "Evaluation :accuracy score"
   ]
  },
  {
   "cell_type": "code",
   "execution_count": 34,
   "id": "0626e8fd-479a-42d4-ba72-878cf93d4406",
   "metadata": {},
   "outputs": [],
   "source": [
    "# accuracy score on the training data\n",
    "X_train_prediction = model.predict(X_train)\n",
    "training_data_accuracy = accuracy_score(X_train_prediction, Y_train)"
   ]
  },
  {
   "cell_type": "code",
   "execution_count": 35,
   "id": "1259b2d2-3095-440c-a622-41ff26a23088",
   "metadata": {},
   "outputs": [
    {
     "name": "stdout",
     "output_type": "stream",
     "text": [
      "Accuracy score of the training data :  0.6490625\n"
     ]
    }
   ],
   "source": [
    "print('Accuracy score of the training data : ', training_data_accuracy)"
   ]
  },
  {
   "cell_type": "code",
   "execution_count": 36,
   "id": "a6dfc53c-cd8d-4e0e-9a56-85ec786b38b5",
   "metadata": {},
   "outputs": [],
   "source": [
    "# accuracy score on the test data\n",
    "X_test_prediction = model.predict(X_test)\n",
    "test_data_accuracy = accuracy_score(X_test_prediction, Y_test)"
   ]
  },
  {
   "cell_type": "code",
   "execution_count": 37,
   "id": "b757740f-ee19-4c21-8234-a1446b79dcab",
   "metadata": {},
   "outputs": [
    {
     "name": "stdout",
     "output_type": "stream",
     "text": [
      "Accuracy score of the test data :  0.4945\n"
     ]
    }
   ],
   "source": [
    "print('Accuracy score of the test data : ', test_data_accuracy)"
   ]
  },
  {
   "cell_type": "markdown",
   "id": "7941e618-a56a-42ac-a616-39ffe2a322b7",
   "metadata": {},
   "source": [
    "Making a Predictive System"
   ]
  },
  {
   "cell_type": "code",
   "execution_count": 38,
   "id": "7759fb77-413e-46ce-886f-dd1a29483daf",
   "metadata": {},
   "outputs": [
    {
     "name": "stdout",
     "output_type": "stream",
     "text": [
      "[0]\n",
      "The news is Real\n"
     ]
    }
   ],
   "source": [
    "X_new = X_test[3]\n",
    "\n",
    "prediction = model.predict(X_new)\n",
    "print(prediction)\n",
    "\n",
    "if (prediction[0]==0):\n",
    "  print('The news is Real')\n",
    "else:\n",
    "  print('The news is Fake')"
   ]
  },
  {
   "cell_type": "code",
   "execution_count": 39,
   "id": "ad45208f-3019-4145-96d1-81ef7ffcd7a2",
   "metadata": {},
   "outputs": [
    {
     "name": "stdout",
     "output_type": "stream",
     "text": [
      "0\n"
     ]
    }
   ],
   "source": [
    "print(Y_test[3])"
   ]
  },
  {
   "cell_type": "code",
   "execution_count": 34,
   "id": "d5c3f071-ceb0-40a7-9400-3b70efdaf968",
   "metadata": {},
   "outputs": [],
   "source": [
    "from nltk.corpus import stopwords\n",
    "from nltk.stem.porter import PorterStemmer\n",
    "from sklearn.feature_extraction.text import TfidfVectorizer\n",
    "from sklearn.model_selection import train_test_split\n",
    "from sklearn.ensemble import RandomForestClassifier, GradientBoostingClassifier\n",
    "from sklearn.metrics import accuracy_score, classification_report\n",
    "import time"
   ]
  },
  {
   "cell_type": "code",
   "execution_count": 37,
   "id": "55b0e359-3d46-4d0f-8ab1-9597e820f3a1",
   "metadata": {},
   "outputs": [],
   "source": [
    "# Vectorize with limited features to reduce memory usage\n",
    "vectorizer = TfidfVectorizer(max_features=5000)\n",
    "X = vectorizer.fit_transform(news_dataset['content'].values)\n",
    "Y = news_dataset['label'].values"
   ]
  },
  {
   "cell_type": "code",
   "execution_count": 38,
   "id": "730949a2-9320-415b-81ed-b2dde4abf00d",
   "metadata": {},
   "outputs": [
    {
     "name": "stdout",
     "output_type": "stream",
     "text": [
      "Label Distribution:\n",
      "label\n",
      "1    10056\n",
      "0     9944\n",
      "Name: count, dtype: int64\n"
     ]
    }
   ],
   "source": [
    "# Check label distribution for imbalance\n",
    "print(\"Label Distribution:\")\n",
    "print(news_dataset['label'].value_counts())"
   ]
  },
  {
   "cell_type": "code",
   "execution_count": 39,
   "id": "5f818dcf-5067-47bb-a87b-ca4bf443ea8a",
   "metadata": {},
   "outputs": [],
   "source": [
    "# Use subset for faster testing (20% of data)\n",
    "subset_size = int(0.2 * len(news_dataset))\n",
    "X_subset = X[:subset_size]\n",
    "Y_subset = Y[:subset_size]\n",
    "X_train, X_test, Y_train, Y_test = train_test_split(X_subset, Y_subset, test_size=0.2, stratify=Y_subset, random_state=2)"
   ]
  },
  {
   "cell_type": "code",
   "execution_count": 40,
   "id": "7aac5cef-8431-48fa-953b-e66f2fb6b44e",
   "metadata": {},
   "outputs": [],
   "source": [
    "# Define models with efficient parameters\n",
    "models = {\n",
    "    'RandomForest': RandomForestClassifier(n_estimators=100, max_depth=20, n_jobs=-1, class_weight='balanced', random_state=2),\n",
    "    'GradientBoosting': GradientBoostingClassifier(n_estimators=100, learning_rate=0.1, max_depth=3, random_state=2)\n",
    "}"
   ]
  },
  {
   "cell_type": "code",
   "execution_count": 42,
   "id": "b4c2b3d0-cf80-4d5e-b8ef-42aa352efd63",
   "metadata": {},
   "outputs": [
    {
     "name": "stdout",
     "output_type": "stream",
     "text": [
      "\n",
      "Training RandomForest...\n",
      "Training Accuracy: 0.8419\n",
      "Test Accuracy: 0.5112\n",
      "Time Taken: 0.28 seconds\n",
      "Classification Report:\n",
      "              precision    recall  f1-score   support\n",
      "\n",
      "           0       0.51      0.55      0.53       400\n",
      "           1       0.51      0.47      0.49       400\n",
      "\n",
      "    accuracy                           0.51       800\n",
      "   macro avg       0.51      0.51      0.51       800\n",
      "weighted avg       0.51      0.51      0.51       800\n",
      "\n",
      "\n",
      "Training GradientBoosting...\n",
      "Training Accuracy: 0.7031\n",
      "Test Accuracy: 0.4850\n",
      "Time Taken: 1.17 seconds\n",
      "Classification Report:\n",
      "              precision    recall  f1-score   support\n",
      "\n",
      "           0       0.49      0.73      0.59       400\n",
      "           1       0.47      0.24      0.32       400\n",
      "\n",
      "    accuracy                           0.48       800\n",
      "   macro avg       0.48      0.48      0.45       800\n",
      "weighted avg       0.48      0.48      0.45       800\n",
      "\n"
     ]
    }
   ],
   "source": [
    "# Train and evaluate each model\n",
    "for model_name, model in models.items():\n",
    "    print(f\"\\nTraining {model_name}...\")\n",
    "    start_time = time.time()\n",
    "    \n",
    "    # Train the model\n",
    "    model.fit(X_train, Y_train)\n",
    "    \n",
    "    # Predictions and accuracy\n",
    "    train_pred = model.predict(X_train)\n",
    "    test_pred = model.predict(X_test)\n",
    "    \n",
    "    train_accuracy = accuracy_score(Y_train, train_pred)\n",
    "    test_accuracy = accuracy_score(Y_test, test_pred)\n",
    "    \n",
    "    # Print results\n",
    "    print(f\"Training Accuracy: {train_accuracy:.4f}\")\n",
    "    print(f\"Test Accuracy: {test_accuracy:.4f}\")\n",
    "    print(f\"Time Taken: {time.time() - start_time:.2f} seconds\")\n",
    "    print(f\"Classification Report:\\n{classification_report(Y_test, test_pred)}\")"
   ]
  },
  {
   "cell_type": "code",
   "execution_count": null,
   "id": "bc8ed318-b412-4862-9e89-c6d1869ac7e4",
   "metadata": {},
   "outputs": [],
   "source": []
  }
 ],
 "metadata": {
  "kernelspec": {
   "display_name": "Python 3 (ipykernel)",
   "language": "python",
   "name": "python3"
  },
  "language_info": {
   "codemirror_mode": {
    "name": "ipython",
    "version": 3
   },
   "file_extension": ".py",
   "mimetype": "text/x-python",
   "name": "python",
   "nbconvert_exporter": "python",
   "pygments_lexer": "ipython3",
   "version": "3.12.7"
  }
 },
 "nbformat": 4,
 "nbformat_minor": 5
}
